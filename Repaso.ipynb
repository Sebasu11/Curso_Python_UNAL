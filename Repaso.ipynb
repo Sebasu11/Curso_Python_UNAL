{
 "cells": [
  {
   "cell_type": "markdown",
   "metadata": {},
   "source": [
    "# REPASO EXPRESS"
   ]
  },
  {
   "cell_type": "markdown",
   "metadata": {},
   "source": [
    "Escribe un programa que pide al usuario una lista de números e\n",
    "imprime en pantalla el máximo y mínimo,promedio, desviación estandar de los números introducidos al final,\n",
    "cuando el usuario introduce “fin”. \n",
    "\n",
    "NOTA: Para la desviación estandar es más facil utilizar numpy!... o lo hacen uds a mano"
   ]
  },
  {
   "cell_type": "code",
   "execution_count": null,
   "metadata": {},
   "outputs": [],
   "source": []
  },
  {
   "cell_type": "markdown",
   "metadata": {},
   "source": [
    "Escribe un programa que lea un archivo e imprima las letras en\n",
    "orden de frecuencia. El programa debe convertir todas las entradas\n",
    "a minusculas y contar solo las letras a-z. \n",
    "\n",
    "NOTA : REMOVER espacios,dígitos, signos de puntuacióon, ni nada que sea distinto a las letras a-z."
   ]
  },
  {
   "cell_type": "code",
   "execution_count": null,
   "metadata": {},
   "outputs": [],
   "source": []
  },
  {
   "cell_type": "markdown",
   "metadata": {},
   "source": [
    "# str - dict - list - if - for\n",
    "Escribe un programa que pida el nombre de un fichero(usemos mbox.txt) y despúes\n",
    "lea ese fichero (Consideren que pasa si el usuario se equivoca), buscando líneas que tengan la forma:\n",
    "* X-DSPAM-Confidence: 0.8475\n",
    "\n",
    "Cuando encuentres una lınea que comience por “X-DSPAM-Confidence:”, separa\n",
    "esa línea para extraer el número en punto flotante. Cuenta esas\n",
    "línea y calcula también el total de los valores de probabilidad de spam (spam confidence)\n",
    "de estas líneas. Cuando alcances el final del archivo, muestra en pantalla\n",
    "el valor medio de probabilidad de spam."
   ]
  },
  {
   "cell_type": "markdown",
   "metadata": {},
   "source": [
    "## Buscar Mensajes por Fecha\n",
    "\n",
    "Escribe un programa que permita ingresar una fecha, crea un **dict** y guarda todos los remitentes de los mensajes enviados en esa fecha. Para lograrlo, busca las líneas que comienzan por “From”, luego localiza la fecha y comparala con la ingresada. Al final del programa\n",
    "imprime en pantalla los remitentes "
   ]
  },
  {
   "cell_type": "code",
   "execution_count": null,
   "metadata": {},
   "outputs": [],
   "source": []
  },
  {
   "cell_type": "markdown",
   "metadata": {},
   "source": [
    "## Imprimir en Orden el top 10 de palabras más comunes"
   ]
  },
  {
   "cell_type": "code",
   "execution_count": null,
   "metadata": {},
   "outputs": [],
   "source": []
  },
  {
   "cell_type": "markdown",
   "metadata": {},
   "source": [
    "## Cuenta el numero de mensajes de cada persona usando un diccionario.\n",
    "\n",
    "Luego crea una lista de tuplas (contador, email) a partir del diccionario. Luego\n",
    "ordena la lista en orden inverso y muestra la persona que tiene más envíos.\n",
    "\n",
    "Ejemplo : \n",
    "\n",
    "* cwen@iupui.edu 5\n",
    "* zqian@umich.edu 195\n",
    "\n",
    "\n",
    "\n"
   ]
  },
  {
   "cell_type": "markdown",
   "metadata": {},
   "source": [
    "## Diccionarios"
   ]
  },
  {
   "cell_type": "code",
   "execution_count": 16,
   "metadata": {
    "ExecuteTime": {
     "end_time": "2019-07-27T11:32:41.296564Z",
     "start_time": "2019-07-27T11:32:41.290527Z"
    }
   },
   "outputs": [],
   "source": [
    "import json\n",
    "import pandas"
   ]
  },
  {
   "cell_type": "markdown",
   "metadata": {},
   "source": [
    "Cual es el estado de la segunda persona? . utilicemos la libreria json y pandas\n",
    "\n",
    "para leer el archivo json, se lee igual que cualquier archivo txt"
   ]
  },
  {
   "cell_type": "code",
   "execution_count": 17,
   "metadata": {
    "ExecuteTime": {
     "end_time": "2019-07-27T11:33:48.349855Z",
     "start_time": "2019-07-27T11:33:48.345561Z"
    }
   },
   "outputs": [
    {
     "data": {
      "text/plain": [
       "'California 94114'"
      ]
     },
     "execution_count": 17,
     "metadata": {},
     "output_type": "execute_result"
    }
   ],
   "source": []
  },
  {
   "cell_type": "markdown",
   "metadata": {},
   "source": [
    "# Vamos a movielens !. y terminamos Pandas"
   ]
  }
 ],
 "metadata": {
  "kernelspec": {
   "display_name": "Python 3",
   "language": "python",
   "name": "python3"
  },
  "language_info": {
   "codemirror_mode": {
    "name": "ipython",
    "version": 3
   },
   "file_extension": ".py",
   "mimetype": "text/x-python",
   "name": "python",
   "nbconvert_exporter": "python",
   "pygments_lexer": "ipython3",
   "version": "3.6.5"
  },
  "toc": {
   "base_numbering": 1,
   "nav_menu": {},
   "number_sections": true,
   "sideBar": true,
   "skip_h1_title": false,
   "title_cell": "Table of Contents",
   "title_sidebar": "Contents",
   "toc_cell": false,
   "toc_position": {},
   "toc_section_display": true,
   "toc_window_display": false
  },
  "varInspector": {
   "cols": {
    "lenName": 16,
    "lenType": 16,
    "lenVar": 40
   },
   "kernels_config": {
    "python": {
     "delete_cmd_postfix": "",
     "delete_cmd_prefix": "del ",
     "library": "var_list.py",
     "varRefreshCmd": "print(var_dic_list())"
    },
    "r": {
     "delete_cmd_postfix": ") ",
     "delete_cmd_prefix": "rm(",
     "library": "var_list.r",
     "varRefreshCmd": "cat(var_dic_list()) "
    }
   },
   "types_to_exclude": [
    "module",
    "function",
    "builtin_function_or_method",
    "instance",
    "_Feature"
   ],
   "window_display": false
  }
 },
 "nbformat": 4,
 "nbformat_minor": 2
}
